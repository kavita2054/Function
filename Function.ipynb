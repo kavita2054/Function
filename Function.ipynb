{
  "cells": [
    {
      "cell_type": "markdown",
      "metadata": {
        "id": "aUcLuj7WErxa"
      },
      "source": [
        "#  Functions"
      ]
    },
    {
      "cell_type": "markdown",
      "metadata": {
        "id": "l5WCPuc1FJ_C"
      },
      "source": [
        "1. What is the difference between a function and a method in Python?\n",
        "\n",
        "   ->>\n",
        "\n",
        "\n",
        "   A function independent block of code (not tied to a class) but method defined inside a class and used on objects .\n",
        "\n",
        "  Ex:-  for function,\n",
        "\n",
        "        def add(a , b):\n",
        "           return a + b\n",
        "\n",
        "         print(add(4,2))   #output: 6\n",
        "\n",
        "  Ex:-  for method,\n",
        "\n",
        "        class calculator:\n",
        "            def add(a, b):\n",
        "               return a + b\n",
        "\n",
        "        calc = calculator()\n",
        "        print(calc.add(4,2))  #output: 6\n",
        "\n",
        " 2. Explain the concept of function arguments and parameters in Python.?\n",
        "\n",
        "    ->>\n",
        "\n",
        "    Arguments are the actual values you pass to the function when calling it. and Parameters are variables listed inside the parentheses in the function definition . also we can said they act as placeholders for the values .\n",
        "\n",
        "    Ex:-\n",
        "\n",
        "          def greet(name):                  # ' name' is a parameter\n",
        "              print (\"Hello,\", name)\n",
        "\n",
        "\n",
        "          greet(\"kavita\")                   # \" kavita is an argument\n",
        "\n",
        "3. What are the different ways to define and call a function in Python?\n",
        "\n",
        "      ->>\n",
        "\n",
        "      there are many different ways to define and all a function like ,\n",
        "      1. Standard Function Definition\n",
        "      2. Function with Default Parameters\n",
        "      3. Function with Variable - Length Arguments\n",
        "      4. Lambda Function\n",
        "      5. Recursive Functions\n",
        "      6. Function as First - Class Objects\n",
        "      7. Nested Functions\n",
        "\n",
        "      Ex:- Standard Function Definition\n",
        "          \n",
        "          def greet(name):          # define function\n",
        "              print(\"Hello,\", name)\n",
        "\n",
        "          greet(\"Kavita\")           # call function\n",
        "\n",
        "     Ex:- Lambda Function\n",
        "\n",
        "          square = lambda x: x * x  #define\n",
        "          print(square(5))          #call\n",
        "\n",
        "\n",
        "4. What is the purpose of the `return` statement in a Python function?\n",
        "\n",
        "   ->>\n",
        "\n",
        "   The purpose of the return statement in python is to send a value from a function back to the place where it was called. This allows the function to produce a result instead of just performing an action.\n",
        "\n",
        "   Ex:-\n",
        "\n",
        "        def square(num):\n",
        "            return num * num\n",
        "\n",
        "        result = square(5)\n",
        "        print(\"Square is:\", result)\n",
        "\n",
        "5. What are iterators in Python and how do they differ from iterables?\n",
        "\n",
        "   ->>\n",
        "\n",
        "   A iterator is an object that represents a stream of data , fetching one element at a time. They  differ from iterables because iterable an object that can return an iterator means returing its members one at a time .\n",
        "\n",
        "   Ex:-\n",
        "\n",
        "       text = \"Hi\"           #iterable\n",
        "       it = iter(text)       #iterator\n",
        "\n",
        "       print(next(it))    --output : H\n",
        "       ptint(next(it))    --output : i\n",
        "\n",
        "6. Explain the concept of generators in Python and how they are defined?\n",
        "\n",
        "   ->>\n",
        "\n",
        "   A generator is a special type of function that produces values one at a time instead of returning them all at once. They are used to create iterators in a very simple way. They use the yield keyword instead of return.\n",
        "\n",
        "   Ex:-\n",
        "        \n",
        "         def count(n):\n",
        "             count = 1\n",
        "             while count <= n:\n",
        "                yield count   # one value at a time\n",
        "\n",
        "                count += 1\n",
        "\n",
        "          gen = count(3)\n",
        "          print(next(gen))   --output : 1\n",
        "          print(next(gen))   --output : 2\n",
        "          print(next(gen))   --output : 3\n",
        "\n",
        "7. What are the advantages of using generators over regular functions?  \n",
        "\n",
        "   ->>\n",
        "\n",
        "   The advantages of using generators over regular functions are memory efficiency, lazy evaluation , improved performance , infinite sequences ,\n",
        "   cleaner code with iteration and pipelining of data .\n",
        "\n",
        "   Ex:- Regular Function,\n",
        "\n",
        "\n",
        "        def squares_list(n):\n",
        "         return [i *i for i in range(n)]\n",
        "\n",
        "        print(squares_list(5))\n",
        "\n",
        "   Ex:- Generator,\n",
        "\n",
        "        \n",
        "        def squares_gen(n):\n",
        "            for i in range(n):\n",
        "                yield i * i\n",
        "\n",
        "        for val in squares_gen(5):\n",
        "            print(val, end=\" \")\n",
        "\n",
        "8. What is a lambda function in Python and when is it typically used?\n",
        "\n",
        "   ->>\n",
        "\n",
        "   A lambdas are one -liners , good for simple tasks. They keep code short and readable. It typically used for complex logic , a regular def function is preferred ( because lambdas can't have multiple statements ) .\n",
        "\n",
        "9. Explain the purpose and usage of the `map()` function in Python?\n",
        "\n",
        "   ->>\n",
        "\n",
        "   The map() function in python is used to apply a function to each item in an iterable( like a list ,tuple , or string ) and return a new iterator with the results. It helps you transform data without writing explicit loops.\n",
        "   It's often used with lambda functions for concise code .\n",
        "   Ex:-\n",
        "\n",
        "        def square(x):\n",
        "            return x * x\n",
        "\n",
        "        nums = [ 1, 2, 3, 4, 5]\n",
        "        squared = map(square ,nums)\n",
        "\n",
        "        print(list(squared))  --output : [1 , 4, 9, 16]\n",
        "\n",
        "10. What is the difference between `map()`, `reduce()`, and `filter()`   functions in Python?\n",
        "\n",
        "    ->>\n",
        "\n",
        "    The map() functions are applies a function to each element in an iterable and returns a new iterator with transformed elements .\n",
        "\n",
        "    Ex:-\n",
        "\n",
        "         nums = [1, 2, 3, 4, 5]\n",
        "         squared = map(lambda x: x**2 , nums)\n",
        "\n",
        "         print(list(squared))\n",
        "\n",
        "    The reduce() functions are filters elements of an iterable based on a condition(True/False) and returns a new iterator containing only the elements that satisfy the condition .\n",
        "\n",
        "    Ex:-\n",
        "\n",
        "         nums = [10 , 15, 20, 25, 30]\n",
        "         evens = filter(lambda x: x % 2 == 0 , nums)\n",
        "\n",
        "         print(list(evens))\n",
        "\n",
        "    The reduce() functions are performs a cumulative computation on an iterable (applies function cumulatively from left to right) and returns a single value( not an iterator) .\n",
        "\n",
        "    Ex:-\n",
        "\n",
        "          from functools import reduce\n",
        "\n",
        "          nums = [1 , 2, 3, 4, 5]\n",
        "          product = reduce(lambda x, y: x * y, nums)\n",
        "\n",
        "          print(product)      --output: 120\n",
        "\n",
        "11. Using pen & Paper write the internal mechanism for sum operation using  reduce function on this given list:[47,11,42,13];\n",
        "\n",
        "    ->>\n",
        "\n",
        "    [question11.jpg]\n",
        "\n",
        "\n",
        "\n",
        "\n",
        "\n",
        "\n",
        "\n"
      ]
    },
    {
      "cell_type": "markdown",
      "metadata": {
        "id": "UMpyqIjRE-FB"
      },
      "source": []
    },
    {
      "cell_type": "code",
      "execution_count": null,
      "metadata": {
        "colab": {
          "base_uri": "https://localhost:8080/"
        },
        "id": "2kafe7HNMwmM",
        "outputId": "abf41d49-0efc-46e4-fffe-677ca83bce1c"
      },
      "outputs": [
        {
          "name": "stdout",
          "output_type": "stream",
          "text": [
            "42\n",
            "42\n",
            "42\n"
          ]
        },
        {
          "data": {
            "text/plain": [
              "42"
            ]
          },
          "execution_count": 11,
          "metadata": {},
          "output_type": "execute_result"
        }
      ],
      "source": [
        "# 1. Write a Python function that takes a list of numbers as input and returns the sum of all even numbers in the list.\n",
        "\n",
        "def sum_even_numbers(numbers):\n",
        "    total = 0\n",
        "    for num in numbers :\n",
        "        if num % 2 == 0:\n",
        "            total += num\n",
        "            return total\n",
        "\n",
        "nums = [ 47 , 11, 42 ,13 ,8 ,6]\n",
        "print(sum_even_numbers(nums))\n",
        "sum_even_numbers(nums)\n",
        "\n"
      ]
    },
    {
      "cell_type": "code",
      "execution_count": null,
      "metadata": {
        "colab": {
          "base_uri": "https://localhost:8080/"
        },
        "id": "SoVOjsfuTFOD",
        "outputId": "333293ec-a2e8-470a-8f6a-32f61e31ee1d"
      },
      "outputs": [
        {
          "name": "stdout",
          "output_type": "stream",
          "text": [
            "olleH\n",
            "ativak\n"
          ]
        }
      ],
      "source": [
        "#  2. Create a Python function that accepts a string and returns the reverse of that string.\n",
        "\n",
        "def reverse_string(text):\n",
        "    return text[ ::-1]\n",
        "\n",
        "word = \"Hello\"\n",
        "print(reverse_string(word))\n",
        "reverse_string(word)\n",
        "\n",
        "obj1 = reverse_string(\"kavita\")\n",
        "print(obj1)"
      ]
    },
    {
      "cell_type": "code",
      "execution_count": null,
      "metadata": {
        "colab": {
          "base_uri": "https://localhost:8080/"
        },
        "id": "TuBmA2p-U9sK",
        "outputId": "943f886f-f7b3-4d4b-ea5e-1911e461d635"
      },
      "outputs": [
        {
          "name": "stdout",
          "output_type": "stream",
          "text": [
            "[1, 4, 9, 16, 25]\n"
          ]
        },
        {
          "data": {
            "text/plain": [
              "[1, 4, 9, 16, 25]"
            ]
          },
          "execution_count": 16,
          "metadata": {},
          "output_type": "execute_result"
        }
      ],
      "source": [
        "# 3. Implement a Python function that takes a list of integers and returns a new list containing the squares of each number.\n",
        "\n",
        "def square_list(numbers):\n",
        "    return [num ** 2 for num in numbers]\n",
        "\n",
        "nums = [1,2,3,4,5]\n",
        "print(square_list(nums))\n",
        "square_list(nums)"
      ]
    },
    {
      "cell_type": "code",
      "execution_count": null,
      "metadata": {
        "colab": {
          "base_uri": "https://localhost:8080/"
        },
        "id": "T5CxfaW6WjBO",
        "outputId": "10365177-8ad3-48b1-8f4c-83fe0528598f"
      },
      "outputs": [
        {
          "name": "stdout",
          "output_type": "stream",
          "text": [
            "2\n",
            "3\n",
            "5\n",
            "7\n",
            "11\n",
            "13\n",
            "17\n",
            "19\n",
            "23\n",
            "29\n",
            "31\n",
            "37\n",
            "41\n",
            "43\n",
            "47\n",
            "53\n",
            "59\n",
            "61\n",
            "67\n",
            "71\n",
            "73\n",
            "79\n",
            "83\n",
            "89\n",
            "97\n",
            "101\n",
            "103\n",
            "107\n",
            "109\n",
            "113\n",
            "127\n",
            "131\n",
            "137\n",
            "139\n",
            "149\n",
            "151\n",
            "157\n",
            "163\n",
            "167\n",
            "173\n",
            "179\n",
            "181\n",
            "191\n",
            "193\n",
            "197\n",
            "199\n"
          ]
        }
      ],
      "source": [
        "# 4. Write a Python function that checks if a given number is prime or not from 1 to 200.\n",
        "\n",
        "def is_prime(num):\n",
        "    if num < 2:\n",
        "        return False\n",
        "    for i in range(2, int(num ** 0.5) + 1):\n",
        "        if num % i == 0:\n",
        "            return False\n",
        "    return True\n",
        "\n",
        "for num in range(1, 201):\n",
        "    if is_prime(num):\n",
        "        print(num)"
      ]
    },
    {
      "cell_type": "code",
      "execution_count": null,
      "metadata": {
        "colab": {
          "base_uri": "https://localhost:8080/"
        },
        "id": "enk76QPtXyNW",
        "outputId": "baaf495a-0439-4798-a8eb-d58cdcb32ea6"
      },
      "outputs": [
        {
          "name": "stdout",
          "output_type": "stream",
          "text": [
            "0\n",
            "1\n",
            "1\n",
            "2\n",
            "3\n",
            "5\n",
            "8\n",
            "13\n",
            "21\n",
            "34\n"
          ]
        }
      ],
      "source": [
        "# 5. Create an iterator class in Python that generates the Fibonacci sequence up to a specified number of terms.\n",
        "\n",
        "class FibonacciIterator:\n",
        "    def __init__ (self , max_terms):\n",
        "        self.max_terms = max_terms\n",
        "        self.a , self.b = 0 ,1\n",
        "        self.count = 0\n",
        "\n",
        "    def __iter__(self):\n",
        "        return self\n",
        "\n",
        "    def __next__(self):\n",
        "        if self.count >= self.max_terms:\n",
        "            raise StopIteration\n",
        "        result = self.a\n",
        "        self.a , self.b = self.b , self.a + self.b\n",
        "        self.count += 1\n",
        "        return result\n",
        "\n",
        "fib_iter = FibonacciIterator(10)\n",
        "for num in fib_iter:\n",
        "    print(num)"
      ]
    },
    {
      "cell_type": "code",
      "execution_count": null,
      "metadata": {
        "colab": {
          "base_uri": "https://localhost:8080/"
        },
        "id": "qgHzOmcsZ9fZ",
        "outputId": "23b751fc-212a-4788-e01a-a7ec1b64dfc9"
      },
      "outputs": [
        {
          "name": "stdout",
          "output_type": "stream",
          "text": [
            "1\n",
            "2\n",
            "4\n",
            "8\n",
            "16\n",
            "32\n"
          ]
        }
      ],
      "source": [
        "# 6. Write a generator function in Python that yields the powers of 2 up to a given exponent.\n",
        "\n",
        "def power_of_two(exponent):\n",
        "    for i in range(exponent + 1):\n",
        "        yield 2 ** i\n",
        "\n",
        "for power in power_of_two(5):\n",
        "    print(power)\n",
        "\n"
      ]
    },
    {
      "cell_type": "code",
      "execution_count": null,
      "metadata": {
        "id": "N-Un4fPoabuf"
      },
      "outputs": [],
      "source": [
        "# 7. Implement a generator function that reads a file line by line and yields each line as a string.\n",
        "\n",
        "def read_file_lines(file_path):\n",
        "    with open(file_path, 'r') as file:\n",
        "        for line in file:\n",
        "            yield line.rstrip(\"/\")\n"
      ]
    },
    {
      "cell_type": "code",
      "execution_count": null,
      "metadata": {
        "colab": {
          "background_save": true
        },
        "id": "KF5OsGkunAPM",
        "outputId": "99c2bd85-3f25-4317-ec42-3755df673995"
      },
      "outputs": [
        {
          "name": "stdout",
          "output_type": "stream",
          "text": [
            "[(3, 1), (1, 4), (2, 6), (5, 9)]\n"
          ]
        }
      ],
      "source": [
        "# 8. Use a lambda function in Python to sort a list of tuples based on the second element of each tuple.\n",
        "\n",
        "data = [(1 , 4),(3 ,1),(5 ,9),(2 ,6)]\n",
        "\n",
        "sorted_data = sorted( data , key = lambda x: x[1])\n",
        "print(sorted_data)"
      ]
    },
    {
      "cell_type": "code",
      "source": [
        "# 9. Write a Python program that uses `map()` to convert a list of temperatures from Celsius to Fahrenheit.\n",
        "\n",
        "def celsius_to_fahrenheit(celsius):\n",
        "    return (celsius * 9/5 ) + 32\n",
        "\n",
        "celsius_temps = [0, 20 , 25 , 30 , 100]\n",
        "fahrenheit_temps = list(map(celsius_to_fahrenheit , celsius_temps))\n",
        "\n",
        "print(\"Celsius :    \", celsius_temps)\n",
        "print(\"Fahrenheit : \", fahrenheit_temps)\n"
      ],
      "metadata": {
        "colab": {
          "base_uri": "https://localhost:8080/"
        },
        "id": "4APWsQQ8y5ZI",
        "outputId": "b54e1435-41e1-4e1b-fbe2-1a8cfbcd420c"
      },
      "execution_count": 32,
      "outputs": [
        {
          "output_type": "stream",
          "name": "stdout",
          "text": [
            "Celsius :     [0, 20, 25, 30, 100]\n",
            "Fahrenheit :  [32.0, 68.0, 77.0, 86.0, 212.0]\n"
          ]
        }
      ]
    },
    {
      "cell_type": "code",
      "source": [
        "# 10. Create a Python program that uses `filter()` to remove all the vowels from a given string.\n",
        "\n",
        "def is_not_vowel(ch):\n",
        "    vowels = \"aeiouAEIOU\"\n",
        "    return ch not in vowels\n",
        "\n",
        "text = \"Hello , World , Python is fun!\"\n",
        "\n",
        "result = \"\".join(filter(is_not_vowel,text))\n",
        "\n",
        "print(\"Original String :\", text)\n",
        "print(\"Without Vowels : \", result)\n"
      ],
      "metadata": {
        "colab": {
          "base_uri": "https://localhost:8080/"
        },
        "id": "3Q8Bcwam00Gj",
        "outputId": "3f21fc67-64d2-4c6f-8eb1-9dad3387f554"
      },
      "execution_count": 34,
      "outputs": [
        {
          "output_type": "stream",
          "name": "stdout",
          "text": [
            "Original String : Hello , World , Python is fun!\n",
            "Without Vowels :  Hll , Wrld , Pythn s fn!\n"
          ]
        }
      ]
    },
    {
      "cell_type": "code",
      "source": [
        "# 11. Imagine an accounting routine used in a book shop. It works on a list with sublists, which look like this:\n",
        "      #Write a Python program, which returns a list with 2-tuples. Each tuple consists of the order number and the\n",
        "      #product of the price per item and the quantity. The product should be increased by 10,- € if the value of the\n",
        "      #order is smaller than 100,00 €.\n",
        "      #Write a Python program using lambda and map.\n",
        "\n",
        "orders = [ [34587, \"Learning Python, Mark Lutz\", 4, 40.95],\n",
        "           [98762, \"Programming Python, Mark Lutz\", 5, 56.80],\n",
        "           [77226, \"Head First Python, Paul Barry\", 3, 32.95],\n",
        "           [88112, \"Einführung in Python3, Bernd Klein\", 3, 24.99]]\n",
        "\n",
        "result = list(map(lambda order: (order[0], order[2] * order[3] if order[2] * order[3] >= 100 else order[2] * order[3] + 10), orders ))\n",
        "print(result)"
      ],
      "metadata": {
        "colab": {
          "base_uri": "https://localhost:8080/"
        },
        "id": "p7IDpZ8v2RkQ",
        "outputId": "f9796e8a-daf8-4c18-e9ac-4a2e811a70eb"
      },
      "execution_count": 35,
      "outputs": [
        {
          "output_type": "stream",
          "name": "stdout",
          "text": [
            "[(34587, 163.8), (98762, 284.0), (77226, 108.85000000000001), (88112, 84.97)]\n"
          ]
        }
      ]
    },
    {
      "cell_type": "code",
      "execution_count": null,
      "metadata": {
        "id": "4zqz9V_R_PH7"
      },
      "outputs": [],
      "source": []
    }
  ],
  "metadata": {
    "colab": {
      "provenance": []
    },
    "kernelspec": {
      "display_name": "Python 3",
      "name": "python3"
    },
    "language_info": {
      "name": "python"
    }
  },
  "nbformat": 4,
  "nbformat_minor": 0
}